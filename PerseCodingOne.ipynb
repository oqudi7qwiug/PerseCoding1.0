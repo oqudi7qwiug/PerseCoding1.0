{
  "nbformat": 4,
  "nbformat_minor": 0,
  "metadata": {
    "colab": {
      "provenance": [],
      "authorship_tag": "ABX9TyO6DNDEc8cGJ7bMPHsCC3aD",
      "include_colab_link": true
    },
    "kernelspec": {
      "name": "python3",
      "display_name": "Python 3"
    },
    "language_info": {
      "name": "python"
    }
  },
  "cells": [
    {
      "cell_type": "markdown",
      "metadata": {
        "id": "view-in-github",
        "colab_type": "text"
      },
      "source": [
        "<a href=\"https://colab.research.google.com/github/oqudi7qwiug/PerseCoding1.0/blob/main/PerseCodingOne.ipynb\" target=\"_parent\"><img src=\"https://colab.research.google.com/assets/colab-badge.svg\" alt=\"Open In Colab\"/></a>"
      ]
    },
    {
      "cell_type": "markdown",
      "source": [
        "Q1) Your program will be given 3 lines of input x, y and z to specify three numbers.\n",
        "• If the three numbers are all in strictly ascending order, your program must output UP.\n",
        "• If the three numbers are all in strictly descending order, your program must\n",
        "output DOWN.\n",
        "• If the three numbers are in any other order, your program must output WOBBLY.\n"
      ],
      "metadata": {
        "id": "-9SD2HjaBkY3"
      }
    },
    {
      "cell_type": "code",
      "source": [
        "x = 2\n",
        "\n",
        "y = 4\n",
        "\n",
        "z = 3\n",
        "\n",
        "list = [x, y, z]\n",
        "\n",
        "if x>y>z :\n",
        "   print(\"UP\")\n",
        "\n",
        "elif x<y<z :\n",
        "  print(\"DOWN\")\n",
        "\n",
        "else:\n",
        "  print(\"WOBBLY\")\n",
        "\n",
        "\n",
        "\n",
        "\n"
      ],
      "metadata": {
        "colab": {
          "base_uri": "https://localhost:8080/"
        },
        "id": "NTxjKUc9Bn5Z",
        "outputId": "44461327-60af-477e-9152-58178c81777d"
      },
      "execution_count": 5,
      "outputs": [
        {
          "output_type": "stream",
          "name": "stdout",
          "text": [
            "WOBBLY\n"
          ]
        }
      ]
    }
  ]
}